{
 "cells": [
  {
   "cell_type": "code",
   "execution_count": 2,
   "metadata": {},
   "outputs": [],
   "source": [
    "import time, sys, argparse\n",
    "sys.path.append('../../../../../')\n",
    "import numpy as np\n",
    "import matplotlib.pyplot as plt\n",
    "import scipy.sparse as sp\n",
    "import scipy.sparse.linalg as spla\n",
    "from dualbound.Maxwell import TM_FDFD as TM\n",
    "from objective_TM_ext import ext_objective\n",
    "\n",
    "def get_spectrum_of_cloak_obj(Qabs, chif, chid, design_x, design_y, gpr, design_file, background_file, save_name='testcloak.png', pml_sep=3.0, binarize_des=False, omega0=2*np.pi):\n",
    "    parser = argparse.ArgumentParser()\n",
    "    parser.add_argument('-wavelength',action='store',type=float,default=1.0)\n",
    "    #separation between pml inner boundary and source walls\n",
    "    parser.add_argument('-pml_thick',action='store',type=float,default=0.5)\n",
    "\n",
    "    args,unknown = parser.parse_known_args()\n",
    "    print('the parameters for this run:', flush=True)\n",
    "    for arg in vars(args):\n",
    "        print(arg,'is',getattr(args,arg), flush=True)\n",
    "\n",
    "    omega = omega0*(1 + 1j/2/Qabs)\n",
    "    do_checks = False\n",
    "\n",
    "    pml_thick = args.pml_thick\n",
    "    \n",
    "    if binarize_des:\n",
    "        design_dof = np.round(np.load(design_file))\n",
    "    else:\n",
    "        design_dof = np.load(design_file)\n",
    "    \n",
    "    des_background = np.load(background_file)\n",
    "    plt.figure(figsize=((7,7)))\n",
    "    plt.imshow(design_dof + des_background/2,cmap='Greys')\n",
    "    plt.xticks([])\n",
    "    plt.yticks([])\n",
    "    plt.axis('off')\n",
    "    plt.savefig(save_name+'_design.png', bbox_inches='tight')\n",
    "\n",
    "    dl = 1.0/gpr\n",
    "    Mx,My = des_background.shape \n",
    "    Npml = int(np.round(pml_thick/dl))\n",
    "    Npmlsep = int(np.round(pml_sep/dl))\n",
    "    nonpmlNx = Mx + 2*Npmlsep\n",
    "    nonpmlNy = My + 2*Npmlsep\n",
    "    Nx = nonpmlNx + 2*Npml\n",
    "    Ny = nonpmlNy + 2*Npml\n",
    "    \n",
    "    #define the masks\n",
    "    background_mask = np.zeros((nonpmlNx,nonpmlNy), dtype=bool) #the fixed object, which is considered to be part of background    \n",
    "    #load background\n",
    "    desMx,desMy = design_dof.shape \n",
    "    indxL = Npmlsep\n",
    "    indxR = indxL + desMx\n",
    "    indyL = Npmlsep\n",
    "    indyR = indyL + desMy\n",
    "    background_mask[indxL:indxR, indyL:indyR] = (des_background[:,:] > 0.0)\n",
    "    design_mask = np.zeros((nonpmlNx,nonpmlNy), dtype=bool) \n",
    "    design_mask[indxL:indxR, indyL:indyR] = (design_dof[:,:] > 0.0) #will look odd for non-binarized results\n",
    "        \n",
    "    if do_checks:\n",
    "        config = np.zeros((nonpmlNx,nonpmlNy))\n",
    "        config[design_mask] = 1.0\n",
    "        plt.figure()\n",
    "        plt.imshow(config)\n",
    "        plt.show()\n",
    "        plt.savefig('check_design.png')\n",
    "    \n",
    "    if do_checks:\n",
    "        config3 = np.zeros((nonpmlNx,nonpmlNy))\n",
    "        config3[design_mask] = 1.0\n",
    "        config3[background_mask] += 2.0\n",
    "        plt.figure()\n",
    "        plt.imshow(config3)\n",
    "        plt.show()\n",
    "        plt.savefig('check_design+background.png')\n",
    "    \n",
    "    background_chi = background_mask * chif #change from boolean mask of fixed object to complex numeric array with chi value\n",
    "################# calculate the fixed vectors #################\n",
    "    Z = 1.0 # dimensionless units\n",
    "    C_0 = 1.0\n",
    "    eps0 = 1/Z/C_0\n",
    "    \n",
    "    big_background_chi = np.zeros((Nx, Ny), dtype=complex) #background chi over grid including pml region\n",
    "    big_background_chi[Npml:-Npml, Npml:-Npml] = background_chi[:,:]\n",
    "        \n",
    "    small_design_chi = np.zeros((nonpmlNx,nonpmlNy), dtype=complex) \n",
    "    small_design_chi[indxL:indxR, indyL:indyR] = design_dof[:,:]\n",
    "    big_design_chi = np.zeros((Nx, Ny), dtype=complex)\n",
    "    big_design_chi[Npml:-Npml, Npml:-Npml] = small_design_chi[:,:] #design mask over grid including pml region\n",
    "\n",
    "    objcx = Npml + Npmlsep + Mx//2\n",
    "    objcy =  Npml + Npmlsep + My//2\n",
    "    #generate an initial plane wave.\n",
    "    NpmlsepID = int(np.round(0.5/dl)) #Npmlsep used in inverse design run\n",
    "    cx = Npml + Npmlsep + (-NpmlsepID + NpmlsepID//2) #position of current sheet correct dist away from cloak+obj as done in inverse design\n",
    "\n",
    "    tot_obj = ext_objective(design_dof[design_mask[indxL:indxR, indyL:indyR]].flatten(), chif, background_mask, chid, design_mask, Npml, dl, cx, omega0, Qabs)\n",
    "    background_term = ext_objective(np.zeros(np.sum(design_mask)), chif, background_mask, chid, design_mask, Npml, dl, cx, omega0, Qabs)\n",
    "    return tot_obj/background_term"
   ]
  },
  {
   "cell_type": "code",
   "execution_count": 9,
   "metadata": {},
   "outputs": [
    {
     "name": "stdout",
     "output_type": "stream",
     "text": [
      "the parameters for this run:\n",
      "wavelength is 1.0\n",
      "pml_thick is 0.5\n"
     ]
    },
    {
     "data": {
      "text/plain": [
       "0.08048248801437748"
      ]
     },
     "execution_count": 9,
     "metadata": {},
     "output_type": "execute_result"
    },
    {
     "data": {
      "image/png": "[encoded data removed]",
      "text/plain": [
       "<Figure size 504x504 with 1 Axes>"
      ]
     },
     "metadata": {},
     "output_type": "display_data"
    }
   ],
   "source": [
    "design_file = 'results/cloak_Qabs_sweep_gpr50_Rinner0d25_Router0d75_chifRe-4+1j_chidRe3+1e-3j_Qabs5.0e+06_L1.5_optdof.npy'\n",
    "background_file = 'results/cloak_Qabs_sweep_gpr50_Rinner0d25_Router0d75_chifRe-4+1j_chidRe3+1e-3j_L1.5_backgrounddof.npy'\n",
    "save_name = 'cloak_Qabs_sweep_gpr50_Rinner0d25_Router0d75_chifRe-4+1j_chidRe3+1e-3j_Qabs5.0e+06_L1.5_optdof'\n",
    "Qabs = 5e6\n",
    "chif = -4 + 1j\n",
    "chid = 3 + 1e-3j\n",
    "design_x = 1.5\n",
    "design_y = 1.5\n",
    "gpr = 50\n",
    "get_spectrum_of_cloak_obj(Qabs, chif, chid, design_x, design_y, gpr, design_file, background_file, save_name, pml_sep=1.0, binarize_des=False, omega0=2*np.pi)"
   ]
  },
  {
   "cell_type": "code",
   "execution_count": 13,
   "metadata": {},
   "outputs": [
    {
     "data": {
      "image/png": "[encoded data removed]",
      "text/plain": [
       "<Figure size 432x288 with 1 Axes>"
      ]
     },
     "metadata": {
      "needs_background": "light"
     },
     "output_type": "display_data"
    }
   ],
   "source": [
    "bounds = np.load('results/cloak_Qabs_sweep_gpr50_Rinner0d25_Router0d75_chifRe-4+1j_chidRe3+1e-3j_Qabs5.0e+06_L1.5_optdof_spectrum.npy')\n",
    "omegas = np.load('results/cloak_Qabs_sweep_gpr50_Rinner0d25_Router0d75_chifRe-4+1j_chidRe3+1e-3j_Qabs5.0e+06_L1.5_optdof_spectrum_omegas.npy')\n",
    "\n",
    "plt.plot(omegas/2/np.pi, bounds)\n",
    "plt.xlabel('$\\omega/\\omega_{0}$')\n",
    "plt.ylabel('$P_{ext,clk+obj}/P_{ext,obj}$')\n",
    "plt.savefig('cloak_Qabs_sweep_gpr50_Rinner0d25_Router0d75_chifRe-4+1j_chidRe3+1e-3j_Qabs5.0e+06_L1.5_optdof_spectrum.pdf', bbox_inches='tight')"
   ]
  },
  {
   "cell_type": "code",
   "execution_count": null,
   "metadata": {},
   "outputs": [],
   "source": []
  }
 ],
 "metadata": {
  "kernelspec": {
   "display_name": "Python 3 (ipykernel)",
   "language": "python",
   "name": "python3"
  },
  "language_info": {
   "codemirror_mode": {
    "name": "ipython",
    "version": 3
   },
   "file_extension": ".py",
   "mimetype": "text/x-python",
   "name": "python",
   "nbconvert_exporter": "python",
   "pygments_lexer": "ipython3",
   "version": "3.9.7"
  }
 },
 "nbformat": 4,
 "nbformat_minor": 4
}
